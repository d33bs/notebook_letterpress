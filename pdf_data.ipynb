{
 "cells": [
  {
   "cell_type": "markdown",
   "metadata": {},
   "source": [
    "# 📜 PDF Data"
   ]
  },
  {
   "cell_type": "code",
   "execution_count": 1,
   "metadata": {},
   "outputs": [],
   "source": [
    "import camelot\n",
    "import pandas as pd"
   ]
  },
  {
   "cell_type": "code",
   "execution_count": 2,
   "metadata": {},
   "outputs": [],
   "source": [
    "target = \"https://...\""
   ]
  },
  {
   "cell_type": "code",
   "execution_count": 4,
   "metadata": {},
   "outputs": [
    {
     "data": {
      "text/plain": [
       "5"
      ]
     },
     "execution_count": 4,
     "metadata": {},
     "output_type": "execute_result"
    }
   ],
   "source": [
    "tables = camelot.read_pdf(target, pages=\"all\")\n",
    "len(tables)"
   ]
  },
  {
   "cell_type": "code",
   "execution_count": 14,
   "metadata": {},
   "outputs": [
    {
     "name": "stdout",
     "output_type": "stream",
     "text": [
      "<class 'pandas.core.frame.DataFrame'>\n",
      "Int64Index: 117 entries, 1 to 21\n",
      "Data columns (total 8 columns):\n",
      " #   Column  Non-Null Count  Dtype \n",
      "---  ------  --------------  ----- \n",
      " 0   0       117 non-null    object\n",
      " 1   1       117 non-null    object\n",
      " 2   2       117 non-null    object\n",
      " 3   3       117 non-null    object\n",
      " 4   4       117 non-null    object\n",
      " 5   5       117 non-null    object\n",
      " 6   6       117 non-null    object\n",
      " 7   7       117 non-null    object\n",
      "dtypes: object(8)\n",
      "memory usage: 8.2+ KB\n"
     ]
    }
   ],
   "source": [
    "df = pd.concat([table.df[1:] for table in tables])\n",
    "df.info()"
   ]
  },
  {
   "cell_type": "code",
   "execution_count": 15,
   "metadata": {},
   "outputs": [
    {
     "name": "stdout",
     "output_type": "stream",
     "text": [
      "<class 'pandas.core.frame.DataFrame'>\n",
      "Int64Index: 117 entries, 1 to 21\n",
      "Data columns (total 8 columns):\n",
      " #   Column                                                      Non-Null Count  Dtype \n",
      "---  ------                                                      --------------  ----- \n",
      " 0   NEIGHBORHOOD PARKS\n",
      "NEIGHBORHOOD PARKS\n",
      "Location\n",
      "Location     117 non-null    object\n",
      " 1                                                               117 non-null    object\n",
      " 2   Play gro u n d\n",
      "Play gro u n d                               117 non-null    object\n",
      " 3   B asketb all\n",
      "B asketb all                                   117 non-null    object\n",
      " 4   S oftb all\n",
      "S oftb all\n",
      "B ase ball / \n",
      "B ase ball /            117 non-null    object\n",
      " 5   T e n nis\n",
      "T e n nis                                         117 non-null    object\n",
      " 6   S kate P ark\n",
      "S kate P ark\n",
      "S kate S p ot / \n",
      "S kate S p ot /  117 non-null    object\n",
      " 7   A d ditio n al\n",
      "A d ditio n al                               117 non-null    object\n",
      "dtypes: object(8)\n",
      "memory usage: 8.2+ KB\n"
     ]
    }
   ],
   "source": [
    "df.columns = tables[0].df.iloc[0].to_list()\n",
    "df.info()"
   ]
  },
  {
   "cell_type": "code",
   "execution_count": 16,
   "metadata": {},
   "outputs": [
    {
     "data": {
      "text/plain": [
       "Index(['NEIGHBORHOOD PARKS\\nNEIGHBORHOOD PARKS\\nLocation\\nLocation', '',\n",
       "       'Play gro u n d\\nPlay gro u n d', 'B asketb all\\nB asketb all',\n",
       "       'S oftb all\\nS oftb all\\nB ase ball / \\nB ase ball /',\n",
       "       'T e n nis\\nT e n nis',\n",
       "       'S kate P ark\\nS kate P ark\\nS kate S p ot / \\nS kate S p ot /',\n",
       "       'A d ditio n al\\nA d ditio n al'],\n",
       "      dtype='object')"
      ]
     },
     "execution_count": 16,
     "metadata": {},
     "output_type": "execute_result"
    }
   ],
   "source": [
    "df.columns"
   ]
  },
  {
   "cell_type": "code",
   "execution_count": 17,
   "metadata": {},
   "outputs": [
    {
     "data": {
      "text/plain": [
       "Index(['NEIGHBORHOODPARKS', '', 'PLAYGROUND', 'BASKETBALL', 'SOFTBALL',\n",
       "       'TENNIS', 'SKATEPARK', 'ADDITIONAL'],\n",
       "      dtype='object')"
      ]
     },
     "execution_count": 17,
     "metadata": {},
     "output_type": "execute_result"
    }
   ],
   "source": [
    "df.columns = [col.upper().split(\"\\n\")[0].replace(\" \", \"\") for col in df.columns]\n",
    "df.columns"
   ]
  },
  {
   "cell_type": "code",
   "execution_count": 19,
   "metadata": {},
   "outputs": [
    {
     "name": "stdout",
     "output_type": "stream",
     "text": [
      "<class 'pandas.core.frame.DataFrame'>\n",
      "Int64Index: 117 entries, 1 to 21\n",
      "Data columns (total 8 columns):\n",
      " #   Column             Non-Null Count  Dtype \n",
      "---  ------             --------------  ----- \n",
      " 0   NEIGHBORHOODPARKS  117 non-null    object\n",
      " 1   LOCATION           117 non-null    object\n",
      " 2   PLAYGROUND         117 non-null    object\n",
      " 3   BASKETBALL         117 non-null    object\n",
      " 4   SOFTBALL           117 non-null    object\n",
      " 5   TENNIS             117 non-null    object\n",
      " 6   SKATEPARK          117 non-null    object\n",
      " 7   ADDITIONAL         117 non-null    object\n",
      "dtypes: object(8)\n",
      "memory usage: 8.2+ KB\n"
     ]
    }
   ],
   "source": [
    "df = df.rename(columns={\"\": \"LOCATION\"})\n",
    "df.info()"
   ]
  }
 ],
 "metadata": {
  "kernelspec": {
   "display_name": "Python 3",
   "language": "python",
   "name": "python3"
  },
  "language_info": {
   "codemirror_mode": {
    "name": "ipython",
    "version": 3
   },
   "file_extension": ".py",
   "mimetype": "text/x-python",
   "name": "python",
   "nbconvert_exporter": "python",
   "pygments_lexer": "ipython3",
   "version": "3.7.6"
  }
 },
 "nbformat": 4,
 "nbformat_minor": 4
}
