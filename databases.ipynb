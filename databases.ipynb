{
 "cells": [
  {
   "cell_type": "markdown",
   "metadata": {},
   "source": [
    "# 🗄️ Databases"
   ]
  },
  {
   "cell_type": "code",
   "execution_count": 7,
   "metadata": {},
   "outputs": [],
   "source": [
    "# Oracle Database to Pandas Dataframe\n",
    "\n",
    "import pandas as pd\n",
    "import yaml\n",
    "from sqlalchemy import create_engine\n",
    "\n",
    "# Note: assumes pre-installed cx_oracle dependencies, which may include external downloads\n",
    "# See the following: https://cx-oracle.readthedocs.io/en/latest/user_guide/installation.html\n",
    "\n",
    "# create a sample configuration file containing database credentials\n",
    "yaml_config = \"\"\"\n",
    "database_name:\n",
    "    username: \"username\"\n",
    "    password: \"password123\"\n",
    "    hostname: \"somewhere\"\n",
    "    port: \"12345\"\n",
    "    database: \"database_name\"\n",
    "\"\"\"\n",
    "\n",
    "# open yaml config as dict\n",
    "config = yaml.load(yaml_config, Loader=yaml.BaseLoader)[\"database_name\"]\n",
    "\n",
    "# oracle connection string which will have values replaced based on credentials provided from above yaml config\n",
    "oracle_connection_string = (\n",
    "    \"oracle+cx_oracle://{username}:{password}@{hostname}:{port}/{database}\"\n",
    ").format(\n",
    "    username=config[\"username\"],\n",
    "    password=config[\"password\"],\n",
    "    hostname=config[\"hostname\"],\n",
    "    port=config[\"port\"],\n",
    "    database=config[\"database\"],\n",
    ")\n",
    "\n",
    "# create the database connection engine using sqlalchemy\n",
    "engine = create_engine(oracle_connection_string)\n",
    "\n",
    "# prepare a database select statement\n",
    "sql_stmt = \"SELECT DISTINCT * FROM TABLENAME\"\n",
    "\n",
    "# run select statement against database using pre-prepared SQLAlchemy engine\n",
    "df = pd.read_sql(sql_stmt, engine)\n",
    "\n",
    "# show the head of our dataframe result which should show the first few rows of the database table data\n",
    "df.head()"
   ]
  }
 ],
 "metadata": {
  "kernelspec": {
   "display_name": "Python 3",
   "language": "python",
   "name": "python3"
  },
  "language_info": {
   "codemirror_mode": {
    "name": "ipython",
    "version": 3
   },
   "file_extension": ".py",
   "mimetype": "text/x-python",
   "name": "python",
   "nbconvert_exporter": "python",
   "pygments_lexer": "ipython3",
   "version": "3.7.6"
  }
 },
 "nbformat": 4,
 "nbformat_minor": 4
}
